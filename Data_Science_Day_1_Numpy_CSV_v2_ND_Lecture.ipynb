{
 "cells": [
  {
   "cell_type": "markdown",
   "metadata": {},
   "source": [
    "# Data Science Numpy & CSV's"
   ]
  },
  {
   "cell_type": "markdown",
   "metadata": {},
   "source": [
    "## Tasks Today:\n",
    "\n",
    "1) <b>Numpy</b> <br>\n",
    " &nbsp;&nbsp;&nbsp;&nbsp; a) Python List Comparison <br>\n",
    " &nbsp;&nbsp;&nbsp;&nbsp; b) In-Class Exercise #1 <br>\n",
    " &nbsp;&nbsp;&nbsp;&nbsp; c) Importing <br>\n",
    " &nbsp;&nbsp;&nbsp;&nbsp; d) Creating an NDArray <br>\n",
    " &nbsp;&nbsp;&nbsp;&nbsp;&nbsp;&nbsp;&nbsp;&nbsp; - np.array() <br>\n",
    " &nbsp;&nbsp;&nbsp;&nbsp;&nbsp;&nbsp;&nbsp;&nbsp; - np.zeros() <br>\n",
    " &nbsp;&nbsp;&nbsp;&nbsp;&nbsp;&nbsp;&nbsp;&nbsp; - np.ones() <br>\n",
    " &nbsp;&nbsp;&nbsp;&nbsp;&nbsp;&nbsp;&nbsp;&nbsp; - np.arange() <br>\n",
    " &nbsp;&nbsp;&nbsp;&nbsp;&nbsp;&nbsp;&nbsp;&nbsp; - Making Lists into NDArrays <br>\n",
    " &nbsp;&nbsp;&nbsp;&nbsp; e) Performing Calculations on NDArrays <br>\n",
    " &nbsp;&nbsp;&nbsp;&nbsp;&nbsp;&nbsp;&nbsp;&nbsp; - Summation <br>\n",
    " &nbsp;&nbsp;&nbsp;&nbsp;&nbsp;&nbsp;&nbsp;&nbsp; - Difference <br>\n",
    " &nbsp;&nbsp;&nbsp;&nbsp;&nbsp;&nbsp;&nbsp;&nbsp; - Multiplication <br>\n",
    " &nbsp;&nbsp;&nbsp;&nbsp;&nbsp;&nbsp;&nbsp;&nbsp; - Division <br>\n",
    " &nbsp;&nbsp;&nbsp;&nbsp; f) Numpy Subsetting <br>\n",
    " &nbsp;&nbsp;&nbsp;&nbsp; g) Multi-dimensional Arrays <br>\n",
    " &nbsp;&nbsp;&nbsp;&nbsp; h) Indexing NDArrays <br>\n",
    " &nbsp;&nbsp;&nbsp;&nbsp; i) Checking NDArray Type <br>\n",
    " &nbsp;&nbsp;&nbsp;&nbsp; j) Altering NDArray Type <br>\n",
    " &nbsp;&nbsp;&nbsp;&nbsp; k) Checking the Shape <br>\n",
    " &nbsp;&nbsp;&nbsp;&nbsp; l) Altering the Shape <br>\n",
    " &nbsp;&nbsp;&nbsp;&nbsp; m) In-Class Exercise #2 <br>\n",
    " &nbsp;&nbsp;&nbsp;&nbsp; n) Complex Indexing & Assigning <br>\n",
    " &nbsp;&nbsp;&nbsp;&nbsp; o) Elementwise Multplication <br>\n",
    " &nbsp;&nbsp;&nbsp;&nbsp; p) np.where() <br>\n",
    " &nbsp;&nbsp;&nbsp;&nbsp; q) Random Sampling <br>\n",
    "\n",
    "2) <b>Working With CSV's</b> <br>\n",
    " &nbsp;&nbsp;&nbsp;&nbsp; a) Imports <br>\n",
    " &nbsp;&nbsp;&nbsp;&nbsp; b) Reading a CSV <br>\n",
    " &nbsp;&nbsp;&nbsp;&nbsp; c) Loading a CSV's Data <br>\n",
    " &nbsp;&nbsp;&nbsp;&nbsp; d) Checking Number of Records <br>\n",
    " \n",
    "3) <b>Exercises</b> <br>\n",
    " &nbsp;&nbsp;&nbsp;&nbsp; a) #1 - Calculate BMI with NDArrays <br>\n",
    " &nbsp;&nbsp;&nbsp;&nbsp; b) #2 - Find the Average Sum of Marathon Runners <br>\n",
    " &nbsp;&nbsp;&nbsp;&nbsp; c) #3 - Random Matrix Function <br>\n",
    " &nbsp;&nbsp;&nbsp;&nbsp; d) #4 - Comparing Boston Red Sox Hitting Numbers <br>"
   ]
  },
  {
   "cell_type": "markdown",
   "metadata": {},
   "source": [
    "## Numpy <br>\n",
    "\n",
    "<p>NumPy is a library for the Python programming language, adding support for large, multi-dimensional arrays and matrices, along with a large collection of high-level mathematical functions to operate on these arrays.</p>\n",
    "<ul>\n",
    "    <li>Shape = Rows & Columns</li>\n",
    "    <li>Matrix = Entire Array</li>\n",
    "    <li>Vector = Variables to be applied (same vector as the one used in physics)</li>\n",
    "    <li>Array = Similar to lists</li>\n",
    "</ul>"
   ]
  },
  {
   "cell_type": "markdown",
   "metadata": {},
   "source": [
    "#### Python List Comparison"
   ]
  },
  {
   "cell_type": "markdown",
   "metadata": {},
   "source": [
    "<p>Lists are flexible, dynamic python objects that do their job quite well. But they do not support some mathematical operations in an intuitive way. Consider the summation of two lists, $l_1$ and $l_2$</p>"
   ]
  },
  {
   "cell_type": "code",
   "execution_count": 2,
   "metadata": {},
   "outputs": [
    {
     "name": "stdout",
     "output_type": "stream",
     "text": [
      "Summation of lists = [1, 2, 3, 4, 5, 6]\n"
     ]
    },
    {
     "ename": "TypeError",
     "evalue": "unsupported operand type(s) for -: 'list' and 'list'",
     "output_type": "error",
     "traceback": [
      "\u001b[0;31m---------------------------------------------------------------------------\u001b[0m",
      "\u001b[0;31mTypeError\u001b[0m                                 Traceback (most recent call last)",
      "\u001b[0;32m<ipython-input-2-083755093df4>\u001b[0m in \u001b[0;36m<module>\u001b[0;34m\u001b[0m\n\u001b[1;32m      5\u001b[0m \u001b[0mprint\u001b[0m\u001b[0;34m(\u001b[0m\u001b[0;34m'Summation of lists = %s'\u001b[0m \u001b[0;34m%\u001b[0m\u001b[0;34m(\u001b[0m\u001b[0ml_1\u001b[0m \u001b[0;34m+\u001b[0m \u001b[0ml_2\u001b[0m\u001b[0;34m)\u001b[0m\u001b[0;34m)\u001b[0m\u001b[0;34m\u001b[0m\u001b[0;34m\u001b[0m\u001b[0m\n\u001b[1;32m      6\u001b[0m \u001b[0;34m\u001b[0m\u001b[0m\n\u001b[0;32m----> 7\u001b[0;31m \u001b[0mprint\u001b[0m\u001b[0;34m(\u001b[0m\u001b[0;34m'The difference of the lists = {}'\u001b[0m\u001b[0;34m.\u001b[0m\u001b[0mformat\u001b[0m\u001b[0;34m(\u001b[0m\u001b[0ml_1\u001b[0m \u001b[0;34m-\u001b[0m \u001b[0ml_2\u001b[0m\u001b[0;34m)\u001b[0m\u001b[0;34m)\u001b[0m\u001b[0;34m\u001b[0m\u001b[0;34m\u001b[0m\u001b[0m\n\u001b[0m",
      "\u001b[0;31mTypeError\u001b[0m: unsupported operand type(s) for -: 'list' and 'list'"
     ]
    }
   ],
   "source": [
    "# create two lists and sum both of them together (results may not be what you expect)\n",
    "l_1 = [1,2,3]\n",
    "l_2 = [4,5,6]\n",
    "\n",
    "# From video:\n",
    "# print(f\"Add regular python lists together: {1_1 + 1_2}\")\n",
    "# print(f\"Find the difference between these two lists: {1_1 - 1_2}\")\n",
    "\n",
    "print('Summation of lists = %s' %(l_1 + l_2))\n",
    "\n",
    "print('The difference of the lists = {}'.format(l_1 - l_2))\n",
    "\n",
    "# TypeError: unsupported operand type(s) for -: 'list' and 'list'\n",
    "# you can't subtract a list from a list\n",
    "# need to apply them elementwise using a function! (below)"
   ]
  },
  {
   "cell_type": "markdown",
   "metadata": {},
   "source": [
    "<p>If we wanted to sum lists elementwise, we could write our own function that does the job entirely within the framework of python</p>"
   ]
  },
  {
   "cell_type": "markdown",
   "metadata": {},
   "source": [
    "#### In-Class Exercise #1 - Write a function that sums the indexes of two lists <br>\n",
    "<p>Ex: [2, 3, 4] + [1, 5, 2] = [3, 8, 6]</p>"
   ]
  },
  {
   "cell_type": "code",
   "execution_count": 3,
   "metadata": {},
   "outputs": [
    {
     "data": {
      "text/plain": [
       "[7, 9, 11]"
      ]
     },
     "execution_count": 3,
     "metadata": {},
     "output_type": "execute_result"
    }
   ],
   "source": [
    "list1 = [5,5,10]\n",
    "list2 = [2,4,1]\n",
    "\n",
    "# Output: [7,9,11]\n",
    "\n",
    "# write a function that will sum each element inside of both lists and return ONE list\n",
    "def sum_element(l1,l2):\n",
    "    return_list = []\n",
    "    for index in range(len(l1)):\n",
    "        return_list.append(l1[index] + l2[index])\n",
    "    return return_list\n",
    "\n",
    "sum_element(list1,list2)"
   ]
  },
  {
   "cell_type": "markdown",
   "metadata": {},
   "source": [
    "We would have to write a similar function for all the possible operands that we could consider for list arithmatic. This is time consuming and inefficient. Moreover, once the lists in question become nested, mimicing the behavior of true matrices, the problem gets worse. Complicated indexing is necessary, just to allow for the most basic matrix operations common throughout science and engineering. Imagine writing a matrix multiplication function using python syntax in a general way, such that it returns a matrix-matrix or matrix-vector product:\n",
    "\n",
    "\\begin{align}\n",
    "(n \\times x) \\times (x \\times m) \\rightarrow (n \\times m)\n",
    "\\end{align}\n",
    "\n",
    "\\begin{align}\n",
    "\\begin{bmatrix}\n",
    "c_{0,0} & ... & c_{0,n} \\\\\n",
    "\\vdots & \\ddots & \\vdots \\\\\n",
    "c_{m,0} & ... & c_{m,n}\n",
    "\\end{bmatrix}\n",
    "=\n",
    "\\begin{bmatrix}\n",
    "a_{0,0} & ... & a_{0,x} \\\\\n",
    "\\vdots & \\ddots & \\vdots \\\\\n",
    "a_{n,0} & ... & a_{n,x}\n",
    "\\end{bmatrix}\n",
    "\\begin{bmatrix}\n",
    "b_{0,0} & ... & b_{0,m} \\\\\n",
    "\\vdots & \\ddots & \\vdots \\\\\n",
    "b_{x,0} & ... & b_{x,m}\n",
    "\\end{bmatrix}\n",
    "\\end{align}\n",
    "\n",
    "Another Example:\n",
    "\n",
    "<img src=\"https://www.mathsisfun.com/algebra/images/matrix-multiply-a.svg\">\n",
    "\n",
    "---\n",
    "\n",
    "The \"Dot Product\" is where we multiply matching members, then sum up:\n",
    "\n",
    "(1, 2, 3) • (7, 9, 11) = 1×7 + 2×9 + 3×11\n",
    "    = 58\n",
    "\n",
    "We match the 1st members (1 and 7), multiply them, likewise for the 2nd members (2 and 9) and the 3rd members (3 and 11), and finally sum them up.\n",
    "\n",
    "<hr>\n",
    "\n",
    "So, let's instantiate a matrix $\\mathcal{M}$ and a vector $\\vec{v}$ and write a function that does the multiplication ourselves."
   ]
  },
  {
   "cell_type": "code",
   "execution_count": 5,
   "metadata": {},
   "outputs": [
    {
     "name": "stdout",
     "output_type": "stream",
     "text": [
      "[[0], [0], [0]]\n",
      "3\n",
      "\n",
      " 3\n",
      "\n",
      " 1\n"
     ]
    },
    {
     "data": {
      "text/plain": [
       "[[2], [4], [6]]"
      ]
     },
     "execution_count": 5,
     "metadata": {},
     "output_type": "execute_result"
    }
   ],
   "source": [
    "# think of a vector as the variables to be applied in a mathematical process\n",
    "\n",
    "def matrix_multiply(A,B):\n",
    "    zero_list = [ [0 for i in range(len(B[0]))] for i in range(len(A))]\n",
    "    inner_dimensions = len(A[0])\n",
    "    n_dimensions = len(zero_list)\n",
    "    m_dimensions = len(zero_list[0])\n",
    "    \n",
    "    print(zero_list)\n",
    "    print(inner_dimensions)\n",
    "    print('\\n', n_dimensions)\n",
    "    print('\\n', m_dimensions)\n",
    "    \n",
    "    # looping through M by v\n",
    "    for i in range(n_dimensions):\n",
    "        for j in range(m_dimensions):\n",
    "            element = 0\n",
    "            for x in range(inner_dimensions):\n",
    "                element += A[i][x] * B[x][j]\n",
    "            zero_list[i][j] = element\n",
    "            \n",
    "    return zero_list\n",
    "    \n",
    "M = [[0,1,0], [0,2,0],[0,3,0]]\n",
    "v = [[1],[2],[3]]\n",
    "\n",
    "matrix_multiply(M,v)"
   ]
  },
  {
   "cell_type": "markdown",
   "metadata": {},
   "source": [
    "#### Importing"
   ]
  },
  {
   "cell_type": "code",
   "execution_count": 1,
   "metadata": {},
   "outputs": [
    {
     "name": "stdout",
     "output_type": "stream",
     "text": [
      "Requirement already satisfied: numpy in /Users/harryhill/opt/anaconda3/lib/python3.9/site-packages (1.21.5)\r\n"
     ]
    }
   ],
   "source": [
    "# !bash script; like typing into terminal\n",
    "!pip install numpy\n",
    "\n",
    "# always import as np, standard across all of data science\n",
    "import numpy as np\n",
    "\n",
    "# installed with Anaconda, can then import as np4\n",
    "# Requirement already satisfied: numpy in /Users/harryhill/opt/anaconda3/lib/python3.9/site-packages (1.21.5)"
   ]
  },
  {
   "cell_type": "markdown",
   "metadata": {},
   "source": [
    "#### - Creating an NDArray <br>\n",
    "<p>NumPy is based around a class called the $\\textit{NDArray}$, which is a flexible vector / matrix class that implements the intuitive matrix and vector arithmatic lacking in basic Python. Let's start by creating some NDArrays:</p>"
   ]
  },
  {
   "cell_type": "markdown",
   "metadata": {},
   "source": [
    "###### - np.array()"
   ]
  },
  {
   "cell_type": "code",
   "execution_count": 5,
   "metadata": {},
   "outputs": [
    {
     "data": {
      "text/plain": [
       "array([1, 2, 3])"
      ]
     },
     "execution_count": 5,
     "metadata": {},
     "output_type": "execute_result"
    }
   ],
   "source": [
    "# instantiate an array by pulling package np and the function .array() \n",
    "arr1 = np.array([1,2,3])\n",
    "# call instance\n",
    "arr1\n",
    "## array([1, 2, 3])\n",
    "print(type(arr1))\n",
    "## <class 'numpy.ndarray'>\n"
   ]
  },
  {
   "cell_type": "markdown",
   "metadata": {},
   "source": [
    "##### - np.zeros()"
   ]
  },
  {
   "cell_type": "code",
   "execution_count": 8,
   "metadata": {},
   "outputs": [
    {
     "data": {
      "text/plain": [
       "array([[0., 0., 0.],\n",
       "       [0., 0., 0.],\n",
       "       [0., 0., 0.]])"
      ]
     },
     "execution_count": 8,
     "metadata": {},
     "output_type": "execute_result"
    }
   ],
   "source": [
    "# Shape -- np.zeroes() has a parameter of \"shape\" that must be given\n",
    "# create a 3-dimensional array because it has both height and width to it\n",
    "shape = (3,3)\n",
    "arr_zeros = np.zeros(shape)\n",
    "arr_zeros"
   ]
  },
  {
   "cell_type": "markdown",
   "metadata": {},
   "source": [
    "###### - np.ones()"
   ]
  },
  {
   "cell_type": "code",
   "execution_count": 9,
   "metadata": {},
   "outputs": [
    {
     "data": {
      "text/plain": [
       "array([[1, 1, 1],\n",
       "       [1, 1, 1],\n",
       "       [1, 1, 1]])"
      ]
     },
     "execution_count": 9,
     "metadata": {},
     "output_type": "execute_result"
    }
   ],
   "source": [
    "#arr_ones = np.ones(shape,int*)\n",
    "arr_ones = np.ones((3,3))\n",
    "arr_ones_int = np.ones((3,3), int)\n",
    "arr_ones_int\n",
    "\n",
    "# notice no dots after the numbers, because we specified the datatype to be integer"
   ]
  },
  {
   "cell_type": "markdown",
   "metadata": {},
   "source": [
    "###### - np.arange()"
   ]
  },
  {
   "cell_type": "code",
   "execution_count": 12,
   "metadata": {},
   "outputs": [
    {
     "data": {
      "text/plain": [
       "array([ 1,  2,  3,  4,  5,  6,  7,  8,  9, 10, 11])"
      ]
     },
     "execution_count": 12,
     "metadata": {},
     "output_type": "execute_result"
    }
   ],
   "source": [
    "# inclusive start, noninclusive end\n",
    "arr3 = np.arange(1,12)\n",
    "arr3"
   ]
  },
  {
   "cell_type": "markdown",
   "metadata": {},
   "source": [
    "###### - Making Lists into NDArrays"
   ]
  },
  {
   "cell_type": "code",
   "execution_count": 13,
   "metadata": {},
   "outputs": [
    {
     "data": {
      "text/plain": [
       "array([4, 5, 6])"
      ]
     },
     "execution_count": 13,
     "metadata": {},
     "output_type": "execute_result"
    }
   ],
   "source": [
    "list_1 = [4,5,6]\n",
    "\n",
    "arr_list = np.array(list_1)\n",
    "arr_list"
   ]
  },
  {
   "cell_type": "markdown",
   "metadata": {},
   "source": [
    "#### Performing Calculations on NDArrays"
   ]
  },
  {
   "cell_type": "markdown",
   "metadata": {},
   "source": [
    "###### - Summation"
   ]
  },
  {
   "cell_type": "code",
   "execution_count": 8,
   "metadata": {
    "scrolled": true
   },
   "outputs": [
    {
     "data": {
      "text/plain": [
       "array([15, 30, 45, 60, 75])"
      ]
     },
     "execution_count": 8,
     "metadata": {},
     "output_type": "execute_result"
    }
   ],
   "source": [
    "arr5 = np.array([5,10,15,20,25])\n",
    "arr10 = np.array([10,20,30,40,50])\n",
    "\n",
    "result_sum = arr5 + arr10\n",
    "result_sum\n",
    "# adds the two arrays together elementwise"
   ]
  },
  {
   "cell_type": "markdown",
   "metadata": {},
   "source": [
    "###### - Difference"
   ]
  },
  {
   "cell_type": "code",
   "execution_count": 9,
   "metadata": {},
   "outputs": [
    {
     "data": {
      "text/plain": [
       "array([ 5, 10, 15, 20, 25])"
      ]
     },
     "execution_count": 9,
     "metadata": {},
     "output_type": "execute_result"
    }
   ],
   "source": [
    "result_diff = arr10 - arr5\n",
    "result_diff"
   ]
  },
  {
   "cell_type": "markdown",
   "metadata": {},
   "source": [
    "###### - Multiplication"
   ]
  },
  {
   "cell_type": "code",
   "execution_count": 10,
   "metadata": {},
   "outputs": [
    {
     "data": {
      "text/plain": [
       "array([  50,  200,  450,  800, 1250])"
      ]
     },
     "execution_count": 10,
     "metadata": {},
     "output_type": "execute_result"
    }
   ],
   "source": [
    "result_mult = arr5 * arr10\n",
    "result_mult"
   ]
  },
  {
   "cell_type": "markdown",
   "metadata": {},
   "source": [
    "###### - Division"
   ]
  },
  {
   "cell_type": "code",
   "execution_count": 12,
   "metadata": {},
   "outputs": [
    {
     "data": {
      "text/plain": [
       "array([2., 2., 2., 2., 2.])"
      ]
     },
     "execution_count": 12,
     "metadata": {},
     "output_type": "execute_result"
    }
   ],
   "source": [
    "result_div = arr10 / arr5\n",
    "result_div\n",
    "# defaults to float numbers\\"
   ]
  },
  {
   "cell_type": "markdown",
   "metadata": {},
   "source": [
    "##### - Modulo"
   ]
  },
  {
   "cell_type": "code",
   "execution_count": 17,
   "metadata": {},
   "outputs": [
    {
     "data": {
      "text/plain": [
       "array([0, 0, 0, 0, 0])"
      ]
     },
     "execution_count": 17,
     "metadata": {},
     "output_type": "execute_result"
    }
   ],
   "source": [
    "result_mod = arr10 % arr5\n",
    "result_mod"
   ]
  },
  {
   "cell_type": "markdown",
   "metadata": {},
   "source": [
    "##### - Floor Division"
   ]
  },
  {
   "cell_type": "code",
   "execution_count": 18,
   "metadata": {},
   "outputs": [
    {
     "data": {
      "text/plain": [
       "array([2, 2, 2, 2, 2])"
      ]
     },
     "execution_count": 18,
     "metadata": {},
     "output_type": "execute_result"
    }
   ],
   "source": [
    "result_floor = arr10 // arr5\n",
    "result_floor"
   ]
  },
  {
   "cell_type": "markdown",
   "metadata": {},
   "source": [
    "#### Numpy Subsetting"
   ]
  },
  {
   "cell_type": "code",
   "execution_count": 20,
   "metadata": {},
   "outputs": [
    {
     "name": "stdout",
     "output_type": "stream",
     "text": [
      "[ True  True  True  True False]\n",
      "[ 50 200 450 800]\n"
     ]
    }
   ],
   "source": [
    "# can take a subset of an array based on a true/false condition\n",
    "\n",
    "# prints booleans, then prints true elements\n",
    "print(result_mult <= 800)\n",
    "\n",
    "# can index kinda like a dictionary to just get the results back\n",
    "print(result_mult[result_mult <= 800])"
   ]
  },
  {
   "cell_type": "code",
   "execution_count": 21,
   "metadata": {},
   "outputs": [
    {
     "name": "stdout",
     "output_type": "stream",
     "text": [
      "['Bob']\n",
      "[ True False False False]\n",
      "False\n"
     ]
    }
   ],
   "source": [
    "# conditional check, that returns the elements that meet the given condition\n",
    "test_ndStrings = np.array(['Bob', 'Mark', 'Angelica', 'Barb'])\n",
    "print(test_ndStrings[test_ndStrings == 'Bob'])\n",
    "print(test_ndStrings == 'Bob')\n",
    "print(test_ndStrings[0] == 'B')"
   ]
  },
  {
   "cell_type": "markdown",
   "metadata": {},
   "source": [
    "#### Multi-dimensional Arrays <br>\n",
    "<p>NumPy seamlessly supports multidimensional arrays and matrices of arbitrary dimension without nesting NDArrays. NDArrays themselves are flexible and extensible and may be defined with such dimensions, with a rich API of common functions to facilitate their use. Let's start by building a two dimensional 3x3 matrix by conversion from a nested group of core python lists $M = [l_0, l_1, l_2]$:</p>"
   ]
  },
  {
   "cell_type": "code",
   "execution_count": 24,
   "metadata": {},
   "outputs": [
    {
     "name": "stdout",
     "output_type": "stream",
     "text": [
      "Nested List Structure: [[0, 1, 2], [3, 4, 5], [6, 7, 8]]\n",
      "NDarray Structure: \n",
      "[[0 1 2]\n",
      " [3 4 5]\n",
      " [6 7 8]]\n"
     ]
    },
    {
     "data": {
      "text/plain": [
       "array([[0, 1, 2],\n",
       "       [3, 4, 5],\n",
       "       [6, 7, 8]])"
      ]
     },
     "execution_count": 24,
     "metadata": {},
     "output_type": "execute_result"
    }
   ],
   "source": [
    "aList = [0, 1, 2]\n",
    "bList = [3, 4, 5]\n",
    "cList = [6, 7, 8]\n",
    "\n",
    "# first step: convert lists into Matrix to work with\n",
    "M = [aList, bList, cList]\n",
    "M\n",
    "print(\"Nested List Structure: {}\".format(M))\n",
    "\n",
    "\n",
    " # cast directly... dimensions inferred... To use must set to variable\n",
    "ND_M = np.array(M)\n",
    "# print(\"NDArray Structure: {}\".format(ND_M))\n",
    "print(f\"NDarray Structure: \\n{ND_M}\")\n",
    "ND_M"
   ]
  },
  {
   "cell_type": "markdown",
   "metadata": {},
   "source": [
    "#### Indexing NDArrays <br>\n",
    "<p> Similar to lists within lists; however, the syntax looks more like C programming language.... It is [1, 2] to access the second row, third element.</p>"
   ]
  },
  {
   "cell_type": "code",
   "execution_count": 26,
   "metadata": {},
   "outputs": [
    {
     "name": "stdout",
     "output_type": "stream",
     "text": [
      "Getting the middle element within the matrix: 5\n"
     ]
    }
   ],
   "source": [
    "# print('Getting the Middle element within the matrix: {}'.format(M[1,1]))\n",
    "# starts with 0th row and 0th column\n",
    "print(f\"Getting the middle element within the matrix: {ND_M[1,2]}\")"
   ]
  },
  {
   "cell_type": "markdown",
   "metadata": {},
   "source": [
    "#### Assigning Values in NDArrays"
   ]
  },
  {
   "cell_type": "code",
   "execution_count": 27,
   "metadata": {},
   "outputs": [
    {
     "data": {
      "text/plain": [
       "array([[0, 1, 2],\n",
       "       [3, 9, 5],\n",
       "       [6, 7, 8]])"
      ]
     },
     "execution_count": 27,
     "metadata": {},
     "output_type": "execute_result"
    }
   ],
   "source": [
    "ND_M[1,1] = 9\n",
    "ND_M"
   ]
  },
  {
   "cell_type": "markdown",
   "metadata": {},
   "source": [
    "<p>Notice above how we ended up with a 1 in the target element's place. This is a data type issue. The .dtype() method is supported by all NDArrays, as well as the .astype() method for casting between data types:</p>"
   ]
  },
  {
   "cell_type": "markdown",
   "metadata": {},
   "source": [
    "#### Checking NDArray Type"
   ]
  },
  {
   "cell_type": "code",
   "execution_count": 29,
   "metadata": {},
   "outputs": [
    {
     "data": {
      "text/plain": [
       "dtype('int64')"
      ]
     },
     "execution_count": 29,
     "metadata": {},
     "output_type": "execute_result"
    }
   ],
   "source": [
    "# checking the .dtype attribute of the array instance\n",
    "nd_type = ND_M.dtype\n",
    "nd_type"
   ]
  },
  {
   "cell_type": "markdown",
   "metadata": {},
   "source": [
    "#### Altering NDArray Type"
   ]
  },
  {
   "cell_type": "code",
   "execution_count": 30,
   "metadata": {},
   "outputs": [
    {
     "name": "stdout",
     "output_type": "stream",
     "text": [
      "Type before change: int64\n",
      "Type after change: float64\n"
     ]
    }
   ],
   "source": [
    "# trying to change to floating point number\n",
    "result_t = nd_type\n",
    "# print(\"Type before change: {}\".format(result_t))\n",
    "print(f\"Type before change: {result_t}\")\n",
    "\n",
    "changed = ND_M.astype(np.float64)\n",
    "\n",
    "result_changed = changed\n",
    "\n",
    "# print(\"Type after change: {}\".format(result_changed.dtype))\n",
    "print(f\"Type after change: {result_changed.dtype}\")"
   ]
  },
  {
   "cell_type": "markdown",
   "metadata": {},
   "source": [
    "#### Checking the Shape <br>\n",
    "<p>The behavior and properties of an NDArray are often sensitively dependent on the $\\textit{shape}$ of the NDArray itself. The shape of an array can be found by calling the .shape method, which will return a tuple containing the array's dimensions:</p>"
   ]
  },
  {
   "cell_type": "code",
   "execution_count": 35,
   "metadata": {},
   "outputs": [
    {
     "data": {
      "text/plain": [
       "(3, 3)"
      ]
     },
     "execution_count": 35,
     "metadata": {},
     "output_type": "execute_result"
    }
   ],
   "source": [
    "# can check the attribute Shape of the ND_M NumPy array instance\n",
    "# shape is always rows x columns\n",
    "ND_M.shape\n",
    "result_changed.shape\n",
    "# print(type(result_changed.shape)) >>> 'tuple'"
   ]
  },
  {
   "cell_type": "markdown",
   "metadata": {},
   "source": [
    "#### Altering the Shape <br>\n",
    "<p>As long as the number of elements remains fixed, we can reshape NDArrays at will:</p>"
   ]
  },
  {
   "cell_type": "code",
   "execution_count": 43,
   "metadata": {},
   "outputs": [
    {
     "name": "stdout",
     "output_type": "stream",
     "text": [
      "Original 3x3:\n",
      "[[0. 1. 2.]\n",
      " [3. 9. 5.]\n",
      " [6. 7. 8.]]\n",
      "\n",
      "Reshaped 9x1:\n",
      "[[0.]\n",
      " [1.]\n",
      " [2.]\n",
      " [3.]\n",
      " [9.]\n",
      " [5.]\n",
      " [6.]\n",
      " [7.]\n",
      " [8.]]\n",
      "\n",
      "Reshaped 1x9:\n",
      "[[0. 1. 2. 3. 9. 5. 6. 7. 8.]]\n"
     ]
    }
   ],
   "source": [
    "# Change the shape of the numpy array\n",
    "# Using the method .reshape()\n",
    "\n",
    "# The reshape should be a multiple of the original shape\n",
    "# Meaning we can have a shape of (1,9) or (9,1) or (3,3)\n",
    "\n",
    "# (9,1) == 9 rows , 1 column\n",
    "print(\"Original 3x3:\")\n",
    "print(result_changed)\n",
    "\n",
    "print(\"\\nReshaped 9x1:\")\n",
    "print(result_changed.reshape((9,1)))\n",
    "\n",
    "print(\"\\nReshaped 1x9:\")\n",
    "print(result_changed.reshape((1,9)))"
   ]
  },
  {
   "cell_type": "code",
   "execution_count": 38,
   "metadata": {},
   "outputs": [
    {
     "name": "stdout",
     "output_type": "stream",
     "text": [
      "[[0. 1. 2. 3. 9. 5. 6. 7. 8.]]\n"
     ]
    }
   ],
   "source": [
    "# keep in mind that the shape numbers do matter,\n",
    "# (9, 1) is different than (1, 9)\n",
    "print(result_changed.reshape((1,9)))"
   ]
  },
  {
   "cell_type": "markdown",
   "metadata": {},
   "source": [
    "#### In-Class Exercise #2 - Create a matrix of range 0 up to 16 and reshape it into a 4x4 matrice"
   ]
  },
  {
   "cell_type": "code",
   "execution_count": 44,
   "metadata": {},
   "outputs": [
    {
     "data": {
      "text/plain": [
       "array([[ 0,  1,  2,  3],\n",
       "       [ 4,  5,  6,  7],\n",
       "       [ 8,  9, 10, 11],\n",
       "       [12, 13, 14, 15]])"
      ]
     },
     "execution_count": 44,
     "metadata": {},
     "output_type": "execute_result"
    }
   ],
   "source": [
    "Matrix = np.arange(16).reshape(4,4)\n",
    "Matrix"
   ]
  },
  {
   "cell_type": "markdown",
   "metadata": {},
   "source": [
    "#### Complex Indexing & Assinging"
   ]
  },
  {
   "cell_type": "code",
   "execution_count": 61,
   "metadata": {},
   "outputs": [
    {
     "name": "stdout",
     "output_type": "stream",
     "text": [
      "Resetting matrix\n",
      "Before Assignment:\n",
      "[[0. 0. 0. 0. 0. 0.]\n",
      " [0. 0. 0. 0. 0. 0.]\n",
      " [0. 0. 0. 0. 0. 0.]\n",
      " [0. 0. 0. 0. 0. 0.]\n",
      " [0. 0. 0. 0. 0. 0.]\n",
      " [0. 0. 0. 0. 0. 0.]]\n",
      "\n",
      " After Assigning 1 to First Column:\n",
      "[[1. 0. 0. 0. 0. 0.]\n",
      " [1. 0. 0. 0. 0. 0.]\n",
      " [1. 0. 0. 0. 0. 0.]\n",
      " [1. 0. 0. 0. 0. 0.]\n",
      " [1. 0. 0. 0. 0. 0.]\n",
      " [1. 0. 0. 0. 0. 0.]]\n",
      "\n",
      " After Assigning 5 to Third Row:\n",
      "[[1. 0. 0. 0. 0. 0.]\n",
      " [1. 0. 0. 0. 0. 0.]\n",
      " [5. 5. 5. 5. 5. 5.]\n",
      " [5. 5. 5. 5. 5. 5.]\n",
      " [5. 5. 5. 5. 5. 5.]\n",
      " [1. 0. 0. 0. 0. 0.]]\n",
      "\n",
      " Reset to Zero\n",
      "[[0. 0. 0. 0. 0. 0.]\n",
      " [0. 0. 0. 0. 0. 0.]\n",
      " [0. 0. 0. 0. 0. 0.]\n",
      " [0. 0. 0. 0. 0. 0.]\n",
      " [0. 0. 0. 0. 0. 0.]\n",
      " [0. 0. 0. 0. 0. 0.]]\n",
      "\n",
      " Assigning 2 to the second and third rows\n",
      "[[0. 2. 2. 0. 0. 0.]\n",
      " [0. 2. 2. 0. 0. 0.]\n",
      " [0. 2. 2. 0. 0. 0.]\n",
      " [0. 2. 2. 0. 0. 0.]\n",
      " [0. 2. 2. 0. 0. 0.]\n",
      " [0. 2. 2. 0. 0. 0.]]\n",
      "\n",
      "Assigning array x to the first axis in M matrix\n",
      "[[0. 1. 2. 3. 4. 5.]\n",
      " [0. 0. 0. 0. 0. 0.]\n",
      " [0. 0. 0. 0. 0. 0.]\n",
      " [0. 0. 0. 0. 0. 0.]\n",
      " [0. 0. 0. 0. 0. 0.]\n",
      " [0. 0. 0. 0. 0. 0.]]\n",
      "\n",
      " Reset vector to zero\n",
      "[[0. 0. 0. 0. 0. 0.]\n",
      " [0. 0. 0. 0. 0. 0.]\n",
      " [0. 0. 0. 0. 0. 0.]\n",
      " [0. 0. 0. 0. 0. 0.]\n",
      " [0. 0. 0. 0. 0. 0.]\n",
      " [0. 0. 0. 0. 0. 0.]]\n"
     ]
    }
   ],
   "source": [
    "M = np.zeros((6,6))\n",
    "print('Resetting matrix')\n",
    "print('New Matrix Before Assignment:')\n",
    "print(M)\n",
    "\n",
    "# M[row, column] \":\" = all remain same, a:b change axis a-b inclusive\n",
    "\n",
    "# Set every first element in each row to 1; notice similarity to list slicing syntax\n",
    "M[:, 0] = 1\n",
    "print('\\n After Assigning 1 to First Column:')\n",
    "print(M)\n",
    "\n",
    "\n",
    "# Set all elements in axis 3 to 5 (Including 5)  to be equal to 5\n",
    "M[2:5, :] = 5\n",
    "print('\\n After Assigning 5 to Third Row:')\n",
    "print(M)\n",
    "\n",
    "# Reset the matrix back to 0\n",
    "print(\"\\n Reset to Zero\")\n",
    "M = M * 0\n",
    "print(M)\n",
    "\n",
    "\n",
    "# Even more complex stuff below:\n",
    "# Set the second and third columns to 2\n",
    "M[:, 1:3] = 2\n",
    "print(\"\\n Assigning 2 to the second and third rows\")\n",
    "print(M)\n",
    "\n",
    "# Create an NDArray of range 4 (a vector)\n",
    "x = np.arange(6)\n",
    "\n",
    "# Reset the Matrix to 0\n",
    "M *= 0\n",
    "\n",
    "# Set the first row to that range\n",
    "M[0, :] = x\n",
    "print('\\nAssigning array x to the first axis in M matrix')\n",
    "print(M)\n",
    "\n",
    "\n",
    "# Initialize a vector of range 6, reset matrix to zero and run vector on matrix\n",
    "v = M[:,:] = 0\n",
    "print('\\n Reset vector to zero')\n",
    "print(M)\n",
    "\n",
    "#####################\n",
    "# M[rows, columns]\n",
    "####################"
   ]
  },
  {
   "cell_type": "markdown",
   "metadata": {},
   "source": [
    "#### Elementwise Multiplication"
   ]
  },
  {
   "cell_type": "markdown",
   "metadata": {},
   "source": [
    "<p>As long as the shapes of NDArrays are 'compatible', they can be multiplied elementwise, broadcasted, used in inner products, and much much more. 'Compatible' in this context can mean compatible in the linear algebraic sense, i.e. for inner products and other matrix multiplication, or simply sharing a dimension in such a manner that broadcasting 'makes sense'. Here are some examples of this:</p>"
   ]
  },
  {
   "cell_type": "code",
   "execution_count": 63,
   "metadata": {},
   "outputs": [
    {
     "name": "stdout",
     "output_type": "stream",
     "text": [
      "[[0. 0. 0. 0. 0. 0.]\n",
      " [0. 0. 0. 0. 0. 0.]\n",
      " [0. 0. 0. 0. 0. 0.]\n",
      " [0. 0. 0. 0. 0. 0.]\n",
      " [0. 0. 0. 0. 0. 0.]\n",
      " [0. 0. 0. 0. 0. 0.]]\n",
      "[[0]\n",
      " [1]\n",
      " [2]\n",
      " [3]\n",
      " [4]\n",
      " [5]]\n",
      "[[0. 0. 0. 0. 0. 0.]\n",
      " [1. 1. 1. 1. 1. 1.]\n",
      " [2. 2. 2. 2. 2. 2.]\n",
      " [3. 3. 3. 3. 3. 3.]\n",
      " [4. 4. 4. 4. 4. 4.]\n",
      " [5. 5. 5. 5. 5. 5.]]\n"
     ]
    }
   ],
   "source": [
    "# Reset matrix back to zero\n",
    "M = M * 0\n",
    "\n",
    "# Initialize a vector of range 4 and reshape to (4, 1)\n",
    "v = np.arange(6).reshape(6,1)\n",
    "\n",
    "#print for correctness\n",
    "print(M)\n",
    "print(v)\n",
    "\n",
    "# print the summation of the matrix and vector\n",
    "M = M + v\n",
    "print(M)"
   ]
  },
  {
   "cell_type": "markdown",
   "metadata": {},
   "source": [
    "#### np.where() <br>\n",
    "<p>If statement within NDArrays that allows you to run conditionals on the entire array</p>"
   ]
  },
  {
   "cell_type": "code",
   "execution_count": 45,
   "metadata": {},
   "outputs": [
    {
     "name": "stdout",
     "output_type": "stream",
     "text": [
      "[  50  200  450  800 1250]\n",
      "\n",
      " (array([0, 1, 2]),)\n",
      "\n",
      " [ 50 200 450]\n"
     ]
    }
   ],
   "source": [
    "print(result_mult)\n",
    "print('\\n', np.where(result_mult < 800))\n",
    "\n",
    "# To get indexes back\n",
    "print('\\n', result_mult[np.where(result_mult < 800)])\n",
    "\n",
    "# Transform Data based on boolean mask == True\n",
    "\n",
    "# print(np.where(M == 1))\n",
    " # going to change all values of 1 to 1.5\n",
    "\n",
    "# Other example\n",
    "    # print(M)\n",
    "    # print(\"\\n\",np.where(M < 2))\n",
    "    # M[np.where(M == 1)] = 1.7\n",
    "    # print(M)\n",
    "\n"
   ]
  },
  {
   "cell_type": "markdown",
   "metadata": {},
   "source": [
    "#### Random Sampling <br>\n",
    "<p>NumPy provides machinery to work with random numbers - something often needed in a broad spectrum of data science applications.</p>"
   ]
  },
  {
   "cell_type": "code",
   "execution_count": 70,
   "metadata": {},
   "outputs": [
    {
     "name": "stdout",
     "output_type": "stream",
     "text": [
      "Here is a random number: 0.4275423472969906\n",
      "Here is a random number between 0 and 1 Million: 269333.593207185\n",
      "Here are 3 random numbers between 0 and 10: [5.30804052 3.46941649 3.78960372]\n",
      "Here is a 3x3 matrix with numbers between 0 and 10: \n",
      " [[6.36500895 4.56036984 8.05088921]\n",
      " [0.99672714 7.8708681  7.92195916]\n",
      " [2.47562832 0.07760039 2.85935939]]\n"
     ]
    }
   ],
   "source": [
    "# np.random.uniform()\n",
    "\n",
    "# A single call generates a single random number between 0 and 1\n",
    "\n",
    "# %s makes it a string\n",
    "print('Here is a random number: %s' % np.random.uniform())\n",
    "\n",
    "# You can also pass some parameters or bounds\n",
    "print('Here is a random number between 0 and 1 Million: %s' % np.random.uniform(0, 1e6))\n",
    "\n",
    "# You can also generate a bunch of random numbers all at once\n",
    "\n",
    "print('Here are 3 random numbers between 0 and 10: %s' % np.random.uniform(0, 10, 3))\n",
    "\n",
    "# Even matrices with shapes as a parameter\n",
    "\n",
    "print('Here is a 3x3 matrix with numbers between 0 and 10: \\n %s' % np.random.uniform(0, 10, (3, 3)))"
   ]
  },
  {
   "cell_type": "markdown",
   "metadata": {},
   "source": [
    "## Working With CSV's"
   ]
  },
  {
   "cell_type": "markdown",
   "metadata": {},
   "source": [
    "#### Imports"
   ]
  },
  {
   "cell_type": "code",
   "execution_count": 71,
   "metadata": {},
   "outputs": [],
   "source": [
    "import csv\n",
    "import numpy as np\n",
    "# datetime is another module that helps with stamping the time\n",
    "# and gives info about the time\n",
    "from datetime import datetime"
   ]
  },
  {
   "cell_type": "markdown",
   "metadata": {},
   "source": [
    "#### Reading a CSV"
   ]
  },
  {
   "cell_type": "code",
   "execution_count": 78,
   "metadata": {},
   "outputs": [
    {
     "name": "stdout",
     "output_type": "stream",
     "text": [
      "<_csv.reader object at 0x7fb3c097b6d8>\n",
      "ken\n"
     ]
    }
   ],
   "source": [
    "# Creating a Function to open and read CSV data\n",
    "\n",
    "def open_csv(filename, d = ','):\n",
    "    # Define an empty list to store data\n",
    "    data = []\n",
    "    \n",
    "    # use the 'with' keyword to load from csv and store into data\n",
    "    with open(filename, encoding = 'utf-8-sig') as mData:\n",
    "        # use reader method in csv package to create python list\n",
    "        info = csv.reader(mData, delimiter = d)\n",
    "        print(info)\n",
    "        \n",
    "        # loop over info and append to data\n",
    "        for row in info:\n",
    "            data.append(row)\n",
    "        \n",
    "    # no need to close file, using 'with' statement closes automatically\n",
    "    return data\n",
    "\n",
    "# can use ../files/ if you need to go one parent folder up from the working directory\n",
    "# import os\n",
    "# os.getcwd()\n",
    "# cwd: '/Users/harryhill/Code/coding-temple/course/data-python/numpy'\n",
    "# wasn't able to figure it out so just moved the csv file to the numpy folder\n",
    "csv_data = open_csv('boston_marathon2017_edited.csv')\n",
    "\n",
    "print(csv_data[1][11])"
   ]
  },
  {
   "cell_type": "markdown",
   "metadata": {},
   "source": [
    "#### Loading a CSV's Data "
   ]
  },
  {
   "cell_type": "code",
   "execution_count": 82,
   "metadata": {},
   "outputs": [
    {
     "name": "stdout",
     "output_type": "stream",
     "text": [
      "Average of the batting Average Column: 0.237949999794364\n",
      "\n",
      " Total Hits: 1505\n",
      "\n",
      " Total HomeRuns: 208\n"
     ]
    }
   ],
   "source": [
    "# data from redsox players data\n",
    "# Columns\n",
    "FIELDS = ['Rk', 'Pos', 'Name', 'Age', 'G', 'PA', 'AB', 'R', 'H', '2B', '3B', 'HR', 'RBI', 'SB', 'CS', \n",
    "          'BB', 'SO', 'BA', 'OBP', 'SLG', 'OPS', 'OPS+', 'TB', 'GDP', 'HBP', 'SH', 'SF', 'IBB']\n",
    "\n",
    "# Columns corresponding datatypes\n",
    "DATATYPES = [('rk', 'i'), ('pos', '|S25'), ('name', '|S25'), ('age', 'i'), ('g', 'i'), ('pa', 'i'), ('ab', 'i'),\n",
    "                ('r', 'i'), ('h', 'i'), ('2b', 'i'), ('3b', 'i'), ('hr', 'i'), ('rbi', 'i'), ('sb', 'i'), ('cs', 'i'),\n",
    "                ('bb', 'i'), ('so', 'i'), ('ba', 'f'), ('obp', 'f'), ('slg', 'f'), ('ops', 'f'), ('opsp', 'i'),\n",
    "                ('tb', 'i'), ('gdp', 'i'), ('hbp', 'i'), ('sh', 'i'), ('sf', 'i'), ('ibb', 'i')]\n",
    "\n",
    "\n",
    "\n",
    "# instead of loading csv normally, let's load it into a numpy array to calculate results on\n",
    "def load_data(filename, d = ','):\n",
    "    data = np.genfromtxt(filename,delimiter = d, skip_header = 1,\n",
    "                        # invalid_raise=F keeps it from throwing errors if something doesnt work\n",
    "                        usecols = np.arange(0,24),invalid_raise=False,\n",
    "                        names = FIELDS, dtype = DATATYPES)\n",
    "    return data\n",
    "\n",
    "bs2017 = load_data('redsox_2017_hitting.txt')\n",
    "bs2018 = load_data('redsox_2018_hitting.txt')\n",
    "\n",
    "# Names\n",
    "names = bs2017['Name']\n",
    "print(names)\n",
    "\n",
    "length = len(bs2018['BA'])\n",
    "print('Average of the batting Average Column: {}'.format(sum(bs2018['BA']) / length))\n",
    "\n",
    "# Total Hits\n",
    "total_hits = sum(bs2018['H'])\n",
    "# print(\"\\n Total Hits: {}\".format(total_hits))\n",
    "print(f'\\n Total Hits 2017: {total_hits}')\n",
    "\n",
    "# Home Runs Total\n",
    "total_HR = sum(bs2018['HR'])\n",
    "print('\\n Total HomeRuns: {}'.format(total_HR))\n",
    "# number of rows in data\n",
    "# print(len(bos_2017))\n",
    "\n",
    "# check only the home runs column\n"
   ]
  },
  {
   "cell_type": "markdown",
   "metadata": {},
   "source": [
    "#### Summing the top 5 hitters for HR's"
   ]
  },
  {
   "cell_type": "code",
   "execution_count": 85,
   "metadata": {},
   "outputs": [
    {
     "name": "stdout",
     "output_type": "stream",
     "text": [
      "[16, 21, 23, 32, 43]\n",
      "[0, 0, 1, 1, 1, 1, 3, 3, 5, 6, 7, 7, 10, 13, 15, 16, 21, 23, 32, 43]\n"
     ]
    }
   ],
   "source": [
    "# find the top 5 hr hitters\n",
    "\n",
    "# Step 1: Get all HR data into a variable\n",
    "# Step 2: Get all Player Names\n",
    "# Step 3: Create new list for new_names (empty to start)\n",
    "# Step 4: Decode the player names into regular strings\n",
    "# Step 5: Grab all data and place inside of a zipped list\n",
    "# Step 6: Sort values based on HR data\n",
    "\n",
    "# Step 1\n",
    "# calling header name on column - make sure they are there/correct!\n",
    "all_hr = bs2017['HR']\n",
    "\n",
    "# Step 2\n",
    "all_names = bs2017['Name']\n",
    "\n",
    "# Step 3\n",
    "new_names = []\n",
    "\n",
    "# Step 4\n",
    "# .decode() makes sure they're normal string values\n",
    "# .zip() returns tuples of grouped index values from multiple lists\n",
    "for name in range(len(all_names)):\n",
    "    new_names.append(all_names[name].decode('utf-8'))\n",
    "# print(new_names)\n",
    "\n",
    "# Step 5\n",
    "zipped_values = list(zip(new_names, all_hr))\n",
    "\n",
    "# print(zipped_values)\n",
    "\n",
    "# Step 6\n",
    "# key is saying I want you to go through and \n",
    "    # sort based on the 1th thing in each of these tuples\n",
    "sorted_hr = sorted(zipped_values, key = lambda x: x[1], reverse = True)\n",
    "# print(sorted_hr)\n",
    "x = 0\n",
    "for home_run_star in sorted_hr:\n",
    "    if x < 6:\n",
    "        print(home_run_star)\n",
    "        x += 1\n",
    "\n",
    "# less clean way of printing:\n",
    "# print(sorted_hr[0:6])\n",
    "\n",
    "        \n",
    "# sorted(iterable, key=key, reverse=reverse)\n",
    "    # key is an optional sorting order\n",
    "    # reverse default is False = ascending, =True would be descending\n",
    "\n",
    "# Other Example:\n",
    "# hr = bs2018['HR']\n",
    "# sorted_hr = sorted(hr)\n",
    "# top5 = sorted_hr[-5:]\n",
    "# print(top5)\n",
    "# print(sorted_hr)"
   ]
  },
  {
   "cell_type": "markdown",
   "metadata": {
    "collapsed": true
   },
   "source": [
    "# Exercises To Complete.... <br>\n",
    "<p>Given in separate file after completion of this file</p>"
   ]
  }
 ],
 "metadata": {
  "kernelspec": {
   "display_name": "Python 3 (ipykernel)",
   "language": "python",
   "name": "python3"
  },
  "language_info": {
   "codemirror_mode": {
    "name": "ipython",
    "version": 3
   },
   "file_extension": ".py",
   "mimetype": "text/x-python",
   "name": "python",
   "nbconvert_exporter": "python",
   "pygments_lexer": "ipython3",
   "version": "3.9.13"
  }
 },
 "nbformat": 4,
 "nbformat_minor": 2
}
